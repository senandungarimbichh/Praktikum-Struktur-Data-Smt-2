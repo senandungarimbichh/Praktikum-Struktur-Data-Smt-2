{
  "nbformat": 4,
  "nbformat_minor": 0,
  "metadata": {
    "colab": {
      "provenance": [],
      "authorship_tag": "ABX9TyPluoLbny0uW1fixBRG9s2t",
      "include_colab_link": true
    },
    "kernelspec": {
      "name": "python3",
      "display_name": "Python 3"
    },
    "language_info": {
      "name": "python"
    }
  },
  "cells": [
    {
      "cell_type": "markdown",
      "metadata": {
        "id": "view-in-github",
        "colab_type": "text"
      },
      "source": [
        "<a href=\"https://colab.research.google.com/github/senandungarimbichh/Praktikum-Struktur-Data-Smt-2/blob/main/Latihan_Week_06.ipynb\" target=\"_parent\"><img src=\"https://colab.research.google.com/assets/colab-badge.svg\" alt=\"Open In Colab\"/></a>"
      ]
    },
    {
      "cell_type": "code",
      "execution_count": null,
      "metadata": {
        "colab": {
          "base_uri": "https://localhost:8080/"
        },
        "id": "Rjznffx2uS-g",
        "outputId": "95a333a9-aa6c-44ab-aa28-cd0fb472ec79"
      },
      "outputs": [
        {
          "output_type": "stream",
          "name": "stdout",
          "text": [
            "Data sebelum sorting: [64, 34, 25, 12, 22, 11, 90]\n",
            "Data setelah Bubble Sort: [11, 12, 22, 25, 34, 64, 90]\n"
          ]
        }
      ],
      "source": [
        "### Implementasi Bubble Sort ###\n",
        "def bubble_sort(arr):\n",
        "    n = len(arr)\n",
        "    for i in range(n - 1):\n",
        "        for j in range(n - i - 1):\n",
        "            if arr[j] > arr[j + 1]:\n",
        "                arr[j], arr[j + 1] = arr[j + 1], arr[j]  # Tukar elemen jika tidak berurutan\n",
        "    return arr\n",
        "\n",
        "# Contoh penggunaan\n",
        "data = [64, 34, 25, 12, 22, 11, 90]\n",
        "sorted_data = bubble_sort(data.copy())  # Menggunakan copy agar data asli tidak berubah\n",
        "\n",
        "print(\"Data sebelum sorting:\", data)\n",
        "print(\"Data setelah Bubble Sort:\", sorted_data)"
      ]
    },
    {
      "cell_type": "code",
      "source": [
        "### Implementasi Selection Sort ###\n",
        "def selection_sort(arr):\n",
        "    n = len(arr)\n",
        "    for i in range(n - 1):\n",
        "        min_index = i\n",
        "        for j in range(i + 1, n):\n",
        "            if arr[j] < arr[min_index]:\n",
        "                min_index = j\n",
        "        arr[i], arr[min_index] = arr[min_index], arr[i]  # Tukar elemen\n",
        "\n",
        "    return arr\n",
        "\n",
        "# Contoh penggunaan\n",
        "data = [64, 25, 12, 22, 11]\n",
        "sorted_data = selection_sort(data.copy())  # Menggunakan copy agar data asli tidak berubah\n",
        "\n",
        "print(\"Data sebelum sorting:\", data)\n",
        "print(\"Data setelah Selection Sort:\", sorted_data)\n"
      ],
      "metadata": {
        "colab": {
          "base_uri": "https://localhost:8080/"
        },
        "id": "MGgPLRQsz3iP",
        "outputId": "56a4000b-b384-4c04-c35b-01874397505b"
      },
      "execution_count": null,
      "outputs": [
        {
          "output_type": "stream",
          "name": "stdout",
          "text": [
            "Data sebelum sorting: [64, 25, 12, 22, 11]\n",
            "Data setelah Selection Sort: [11, 12, 22, 25, 64]\n"
          ]
        }
      ]
    },
    {
      "cell_type": "code",
      "source": [
        "### Implementasi Insertion Sort ###\n",
        "def insertion_sort(arr):\n",
        "    n = len(arr)\n",
        "    for i in range(1, n):  # Loop dari elemen kedua hingga akhir\n",
        "        key = arr[i]\n",
        "        j = i - 1\n",
        "\n",
        "        while j >= 0 and arr[j] > key:\n",
        "            arr[j + 1] = arr[j]\n",
        "            j -= 1\n",
        "\n",
        "        arr[j + 1] = key  # Menempatkan elemen di posisi yang benar\n",
        "\n",
        "    return arr\n",
        "\n",
        "# Contoh penggunaan\n",
        "data = [64, 34, 25, 12, 22, 11, 90]\n",
        "sorted_data = insertion_sort(data.copy())  # Menggunakan copy agar data asli tidak berubah\n",
        "\n",
        "print(\"Data sebelum sorting:\", data)\n",
        "print(\"Data setelah Insertion Sort:\", sorted_data)\n"
      ],
      "metadata": {
        "colab": {
          "base_uri": "https://localhost:8080/"
        },
        "id": "rD0OHfQT0yxe",
        "outputId": "bee46049-d373-46ff-feb5-1c29dfeddeed"
      },
      "execution_count": null,
      "outputs": [
        {
          "output_type": "stream",
          "name": "stdout",
          "text": [
            "Data sebelum sorting: [64, 34, 25, 12, 22, 11, 90]\n",
            "Data setelah Insertion Sort: [11, 12, 22, 25, 34, 64, 90]\n"
          ]
        }
      ]
    },
    {
      "cell_type": "code",
      "source": [
        "###  Implementasi Merge Sort ###\n",
        "def merge_sort(arr):\n",
        "    if len(arr) > 1:\n",
        "        mid = len(arr) // 2\n",
        "        left_half = arr[:mid]\n",
        "        right_half = arr[mid:]\n",
        "\n",
        "        # Rekursi pada kedua bagian\n",
        "        merge_sort(left_half)\n",
        "        merge_sort(right_half)\n",
        "\n",
        "        i = j = k = 0\n",
        "\n",
        "        # Menggabungkan dua bagian yang telah diurutkan\n",
        "        while i < len(left_half) and j < len(right_half):\n",
        "            if left_half[i] < right_half[j]:\n",
        "                arr[k] = left_half[i]\n",
        "                i += 1\n",
        "            else:\n",
        "                arr[k] = right_half[j]\n",
        "                j += 1\n",
        "            k += 1\n",
        "\n",
        "        # Menyalin sisa elemen dari left_half jika ada\n",
        "        while i < len(left_half):\n",
        "            arr[k] = left_half[i]\n",
        "            i += 1\n",
        "            k += 1\n",
        "\n",
        "        # Menyalin sisa elemen dari right_half jika ada\n",
        "        while j < len(right_half):\n",
        "            arr[k] = right_half[j]\n",
        "            j += 1\n",
        "            k += 1\n",
        "    return arr\n",
        "# Contoh penggunaan\n",
        "data = [64, 25, 12, 22, 11]\n",
        "sorted_data = merge_sort(data.copy())\n",
        "print(\"Data sebelum sorting:\", data)\n",
        "print(\"Data setelah Merge Sort:\", sorted_data)"
      ],
      "metadata": {
        "colab": {
          "base_uri": "https://localhost:8080/"
        },
        "id": "DQdpgTPK1mnR",
        "outputId": "68cbc211-9b92-424e-c9ed-83950dfc31a6"
      },
      "execution_count": null,
      "outputs": [
        {
          "output_type": "stream",
          "name": "stdout",
          "text": [
            "Data sebelum sorting: [64, 25, 12, 22, 11]\n",
            "Data setelah Merge Sort: [11, 12, 22, 25, 64]\n"
          ]
        }
      ]
    },
    {
      "cell_type": "code",
      "source": [
        "### Implementasi Quick Sort ###\n",
        "def quick_sort(arr):\n",
        "    if len(arr) <= 1:\n",
        "        return arr  # Basis rekursi\n",
        "\n",
        "    pivot = arr[len(arr) // 2]  # Memilih pivot (elemen tengah)\n",
        "\n",
        "    left = [x for x in arr if x < pivot]  # Elemen lebih kecil dari pivot\n",
        "    middle = [x for x in arr if x == pivot]  # Elemen sama dengan pivot\n",
        "    right = [x for x in arr if x > pivot]  # Elemen lebih besar dari pivot\n",
        "\n",
        "    return quick_sort(left) + middle + quick_sort(right)  # Rekursi dan penggabungan hasil\n",
        "\n",
        "# Contoh penggunaan\n",
        "data = [64, 25, 12, 22, 11,]\n",
        "sorted_data = quick_sort(data.copy())  # Menggunakan copy agar data asli tidak berubah\n",
        "\n",
        "print(\"Data sebelum sorting:\", data)\n",
        "print(\"Data setelah Quick Sort:\", sorted_data)\n"
      ],
      "metadata": {
        "colab": {
          "base_uri": "https://localhost:8080/"
        },
        "id": "R-5I8IcP2XyQ",
        "outputId": "39ecb2b5-4a94-490f-d003-c0fb3ae2a925"
      },
      "execution_count": null,
      "outputs": [
        {
          "output_type": "stream",
          "name": "stdout",
          "text": [
            "Data sebelum sorting: [64, 25, 12, 22, 11]\n",
            "Data setelah Quick Sort: [11, 12, 22, 25, 64]\n"
          ]
        }
      ]
    }
  ]
}
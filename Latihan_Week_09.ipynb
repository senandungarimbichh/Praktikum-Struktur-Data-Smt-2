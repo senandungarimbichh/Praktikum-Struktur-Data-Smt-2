{
  "nbformat": 4,
  "nbformat_minor": 0,
  "metadata": {
    "colab": {
      "provenance": [],
      "authorship_tag": "ABX9TyOw8NMJ+rZqDRyyOLWqt2OW",
      "include_colab_link": true
    },
    "kernelspec": {
      "name": "python3",
      "display_name": "Python 3"
    },
    "language_info": {
      "name": "python"
    }
  },
  "cells": [
    {
      "cell_type": "markdown",
      "metadata": {
        "id": "view-in-github",
        "colab_type": "text"
      },
      "source": [
        "<a href=\"https://colab.research.google.com/github/senandungarimbichh/Praktikum-Struktur-Data-Smt-2/blob/main/Latihan_Week_09.ipynb\" target=\"_parent\"><img src=\"https://colab.research.google.com/assets/colab-badge.svg\" alt=\"Open In Colab\"/></a>"
      ]
    },
    {
      "cell_type": "code",
      "execution_count": null,
      "metadata": {
        "colab": {
          "base_uri": "https://localhost:8080/"
        },
        "id": "G0XxhPNnVmUE",
        "outputId": "ae14bb64-078d-409a-bba6-6fb3f1627a74"
      },
      "outputs": [
        {
          "output_type": "stream",
          "name": "stdout",
          "text": [
            "Nilai untuk 'apel': 100\n",
            "Nilai untuk 'pisang': 200\n"
          ]
        }
      ],
      "source": [
        "## Implementasi Hash Table Sederhana ##\n",
        "class SimpleHashTable:\n",
        "    def __init__(self, size):\n",
        "        self.size = size\n",
        "        self.table = [None] * size  # Perbaikan sintaks\n",
        "\n",
        "    def hash_function(self, key):  # Nama fungsi digabung dengan underscore\n",
        "        return hash(key) % self.size\n",
        "\n",
        "    def insert(self, key, value):\n",
        "        index = self.hash_function(key)\n",
        "        self.table[index] = value\n",
        "\n",
        "    def search(self, key):\n",
        "        index = self.hash_function(key)\n",
        "        return self.table[index]\n",
        "\n",
        "# Contoh penggunaan\n",
        "ht = SimpleHashTable(10)\n",
        "ht.insert(\"apel\", 100)\n",
        "ht.insert(\"pisang\", 200)\n",
        "print(\"Nilai untuk 'apel':\", ht.search(\"apel\"))\n",
        "print(\"Nilai untuk 'pisang':\", ht.search(\"pisang\"))"
      ]
    },
    {
      "cell_type": "code",
      "source": [
        "## Penanganan Collision dengan Lienar Probing ##\n",
        "class LinearProbingHashTable:\n",
        "    def __init__(self, size):\n",
        "        self.size = size\n",
        "        self.table = [None] * size\n",
        "\n",
        "    def hash_function(self, key):\n",
        "        return hash(key) % self.size\n",
        "\n",
        "    def insert(self, key, value):\n",
        "        index = self.hash_function(key)\n",
        "        original_index = index\n",
        "\n",
        "        while self.table[index] is not None:\n",
        "            if self.table[index][0] == key:\n",
        "                break  # Update jika key sama\n",
        "            index = (index + 1) % self.size\n",
        "            if index == original_index:\n",
        "                raise Exception(\"Hash table penuh\")\n",
        "\n",
        "        self.table[index] = (key, value)\n",
        "\n",
        "    def search(self, key):\n",
        "        index = self.hash_function(key)\n",
        "        original_index = index\n",
        "\n",
        "        while self.table[index] is not None:\n",
        "            if self.table[index][0] == key:\n",
        "                return self.table[index][1]\n",
        "            index = (index + 1) % self.size\n",
        "            if index == original_index:\n",
        "                break\n",
        "\n",
        "        return None\n",
        "\n",
        "# Contoh penggunaan\n",
        "ht = LinearProbingHashTable(5)\n",
        "ht.insert(\"apel\", 100)\n",
        "ht.insert(\"pisang\", 200)\n",
        "ht.insert(\"melon\", 300)\n",
        "\n",
        "print(\"Nilai untuk 'apel':\", ht.search(\"apel\"))\n",
        "print(\"Nilai untuk 'melon':\", ht.search(\"melon\"))"
      ],
      "metadata": {
        "colab": {
          "base_uri": "https://localhost:8080/"
        },
        "id": "buASlWCNXDp9",
        "outputId": "44356827-4ab4-4963-aa36-12d0be9ac093"
      },
      "execution_count": null,
      "outputs": [
        {
          "output_type": "stream",
          "name": "stdout",
          "text": [
            "Nilai untuk 'apel': 100\n",
            "Nilai untuk 'melon': 300\n"
          ]
        }
      ]
    },
    {
      "cell_type": "code",
      "source": [
        "## Penanganan Collision dengan Chaining ##\n",
        "class ChainingHashTable:\n",
        "    def __init__(self, size):\n",
        "        self.size = size\n",
        "        self.table = [[] for _ in range(size)]  # Perhatikan penggunaan `_` sebagai placeholder\n",
        "\n",
        "    def hash_function(self, key):\n",
        "        return hash(key) % self.size\n",
        "\n",
        "    def insert(self, key, value):\n",
        "        index = self.hash_function(key)\n",
        "        for i, (k, v) in enumerate(self.table[index]):\n",
        "            if k == key:\n",
        "                self.table[index][i] = (key, value)  # Update jika key sudah ada\n",
        "                return\n",
        "        self.table[index].append((key, value))  # Tambah pasangan key-value baru\n",
        "\n",
        "    def search(self, key):\n",
        "        index = self.hash_function(key)\n",
        "        for k, v in self.table[index]:\n",
        "            if k == key:\n",
        "                return v\n",
        "        return None\n",
        "\n",
        "# Contoh penggunaan\n",
        "ht = ChainingHashTable(5)\n",
        "ht.insert(\"apel\", 100)\n",
        "ht.insert(\"pisang\", 200)\n",
        "ht.insert(\"melon\", 300)\n",
        "print(\"Nilai untuk 'apel':\", ht.search(\"apel\"))\n",
        "print(\"Nilai untuk 'melon':\", ht.search(\"melon\"))"
      ],
      "metadata": {
        "colab": {
          "base_uri": "https://localhost:8080/"
        },
        "id": "r5QVEfieXtNm",
        "outputId": "2ac87693-cae4-4fe9-cfad-d8b0f6808c8a"
      },
      "execution_count": null,
      "outputs": [
        {
          "output_type": "stream",
          "name": "stdout",
          "text": [
            "Nilai untuk 'apel': 100\n",
            "Nilai untuk 'melon': 300\n"
          ]
        }
      ]
    }
  ]
}
{
  "nbformat": 4,
  "nbformat_minor": 0,
  "metadata": {
    "colab": {
      "provenance": [],
      "authorship_tag": "ABX9TyOMaID9wxVH87LERdLH5v0z",
      "include_colab_link": true
    },
    "kernelspec": {
      "name": "python3",
      "display_name": "Python 3"
    },
    "language_info": {
      "name": "python"
    }
  },
  "cells": [
    {
      "cell_type": "markdown",
      "metadata": {
        "id": "view-in-github",
        "colab_type": "text"
      },
      "source": [
        "<a href=\"https://colab.research.google.com/github/senandungarimbichh/Praktikum-Struktur-Data-Smt-2/blob/main/Tugas_Week_03.ipynb\" target=\"_parent\"><img src=\"https://colab.research.google.com/assets/colab-badge.svg\" alt=\"Open In Colab\"/></a>"
      ]
    },
    {
      "cell_type": "code",
      "execution_count": 3,
      "metadata": {
        "id": "7oYZlH3o_lD5",
        "colab": {
          "base_uri": "https://localhost:8080/"
        },
        "outputId": "2018066c-4692-473b-e251-4f7be913708d"
      },
      "outputs": [
        {
          "output_type": "stream",
          "name": "stdout",
          "text": [
            "masukkan NPM kamu yaa: 50\n",
            "gudang kapasitas maksimalnya: 50 barang\n",
            "\n",
            "menu yang ada di gudang:\n",
            "1. tambah barang\n",
            "2. ngambil barang\n",
            "3. mengecek isi gudang\n",
            "4. Keluar\n",
            "Pilih operasi (1-4): 1\n",
            "Masukin nama barang terserah kamu yaa: pensil\n",
            "ini barang 'pensil' berhasil ditambahkan. Sisa kapasitas dalam gudang : 49\n",
            "\n",
            "menu yang ada di gudang:\n",
            "1. tambah barang\n",
            "2. ngambil barang\n",
            "3. mengecek isi gudang\n",
            "4. Keluar\n",
            "Pilih operasi (1-4): 1\n",
            "Masukin nama barang terserah kamu yaa: pulpen\n",
            "ini barang 'pulpen' berhasil ditambahkan. Sisa kapasitas dalam gudang : 48\n",
            "\n",
            "menu yang ada di gudang:\n",
            "1. tambah barang\n",
            "2. ngambil barang\n",
            "3. mengecek isi gudang\n",
            "4. Keluar\n",
            "Pilih operasi (1-4): 2\n",
            "Barang 'pulpen' udah diambil dari gudang. Sisa barang di gudang : 1\n",
            "\n",
            "menu yang ada di gudang:\n",
            "1. tambah barang\n",
            "2. ngambil barang\n",
            "3. mengecek isi gudang\n",
            "4. Keluar\n",
            "Pilih operasi (1-4): 3\n",
            "isi gudang dari paling atas:\n",
            "pensil\n",
            "\n",
            "menu yang ada di gudang:\n",
            "1. tambah barang\n",
            "2. ngambil barang\n",
            "3. mengecek isi gudang\n",
            "4. Keluar\n",
            "Pilih operasi (1-4): 4\n",
            "thankyou!\n"
          ]
        }
      ],
      "source": [
        "class barang_gudang:\n",
        "    def __init__(self, npm):\n",
        "        # ambil dua digit terakhir NPM sebagai kapasitas maksimal dari gudang\n",
        "        self.maks_kapasitas = int(str(npm)[-2:])\n",
        "        self.barang_numpuk = []\n",
        "        print(f\"gudang kapasitas maksimalnya: {self.maks_kapasitas} barang\")\n",
        "\n",
        "    def tambah_barang(self, barang):\n",
        "        # cek apakah gudang masih bisa menampung barang\n",
        "        if len(self.barang_numpuk) < self.maks_kapasitas:\n",
        "            self.barang_numpuk.append(barang)\n",
        "            print(f\"ini barang '{barang}' berhasil ditambahkan. Sisa kapasitas dalam gudang : {self.maks_kapasitas - len(self.barang_numpuk)}\")\n",
        "        else:\n",
        "            print(\"gudang udah penuh! ngga bisa nambah barang lagi.\")\n",
        "\n",
        "    def ambil_barang(self):\n",
        "        # ambil barang terakhir yang masuk (LIFO)\n",
        "        if self.barang_numpuk:\n",
        "            barang = self.barang_numpuk.pop()\n",
        "            print(f\"Barang '{barang}' udah diambil dari gudang. Sisa barang di gudang : {len(self.barang_numpuk)}\")\n",
        "            return barang\n",
        "        else:\n",
        "            print(\"gudang udah kosong! ngga ada barang yang bisa diambil.\")\n",
        "            return None\n",
        "\n",
        "    def cek_gudang(self):\n",
        "        # menampilkan isi gudang\n",
        "        if self.barang_numpuk:\n",
        "            print(\"isi gudang dari paling atas:\")\n",
        "            for barang in reversed(self.barang_numpuk):\n",
        "                print(barang)\n",
        "        else:\n",
        "            print(\"gudang kosong.\")\n",
        "\n",
        "# menginput NPM\n",
        "npm = input(\"masukkan NPM kamu yaa: \")\n",
        "\n",
        "\n",
        "# membuat objek gudang\n",
        "gudang = barang_gudang(npm)\n",
        "\n",
        "# simulasi penggunaan gudang\n",
        "while True:\n",
        "    print(\"\\nmenu yang ada di gudang:\")\n",
        "    print(\"1. tambah barang\")\n",
        "    print(\"2. ngambil barang\")\n",
        "    print(\"3. mengecek isi gudang\")\n",
        "    print(\"4. Keluar\")\n",
        "\n",
        "    pilihan = input(\"Pilih operasi (1-4): \")\n",
        "\n",
        "    if pilihan == '1':\n",
        "        barang = input(\"Masukin nama barang terserah kamu yaa: \")\n",
        "        gudang.tambah_barang(barang)\n",
        "    elif pilihan == '2':\n",
        "        gudang.ambil_barang()\n",
        "    elif pilihan == '3':\n",
        "        gudang.cek_gudang()\n",
        "    elif pilihan == '4':\n",
        "        print(\"thankyou!\")\n",
        "        break\n",
        "    else:\n",
        "        print(\"Pilihan ngga valid. coba lagi deh.\")"
      ]
    }
  ]
}
{
  "nbformat": 4,
  "nbformat_minor": 0,
  "metadata": {
    "colab": {
      "provenance": [],
      "authorship_tag": "ABX9TyMm7KN4ytzeOq7BkD03MYBa",
      "include_colab_link": true
    },
    "kernelspec": {
      "name": "python3",
      "display_name": "Python 3"
    },
    "language_info": {
      "name": "python"
    }
  },
  "cells": [
    {
      "cell_type": "markdown",
      "metadata": {
        "id": "view-in-github",
        "colab_type": "text"
      },
      "source": [
        "<a href=\"https://colab.research.google.com/github/senandungarimbichh/Praktikum-Struktur-Data-Smt-2/blob/main/Tugas_Week_08.ipynb\" target=\"_parent\"><img src=\"https://colab.research.google.com/assets/colab-badge.svg\" alt=\"Open In Colab\"/></a>"
      ]
    },
    {
      "cell_type": "code",
      "source": [
        "# 1. Membuat graf tak berarah dengan 5 simpul dan 7 sisi\n",
        "graph = {\n",
        "    'A': ['B', 'C'],\n",
        "    'B': ['A', 'C', 'D'],\n",
        "    'C': ['A', 'B', 'D', 'E'],\n",
        "    'D': ['B', 'C', 'E'],\n",
        "    'E': ['C', 'D']\n",
        "}\n",
        "\n",
        "# Fungsi untuk mencetak graph\n",
        "def print_graph(graf):\n",
        "    for node in graf:\n",
        "        print(f\"{node} -> {graf[node]}\")\n",
        "\n",
        "# Memanggil fungsi untuk menampilkan graf\n",
        "print_graph(graph)"
      ],
      "metadata": {
        "colab": {
          "base_uri": "https://localhost:8080/"
        },
        "id": "cbX6HqaAjpgr",
        "outputId": "3ae524fb-943a-49b0-a5cd-c3de709ccdff"
      },
      "execution_count": 7,
      "outputs": [
        {
          "output_type": "stream",
          "name": "stdout",
          "text": [
            "A -> ['B', 'C']\n",
            "B -> ['A', 'C', 'D']\n",
            "C -> ['A', 'B', 'D', 'E']\n",
            "D -> ['B', 'C', 'E']\n",
            "E -> ['C', 'D']\n"
          ]
        }
      ]
    },
    {
      "cell_type": "code",
      "source": [
        "# 2. Implementasikan BFS dan DFS\n",
        "from collections import deque\n",
        "\n",
        "# implementasi BFS\n",
        "def bfs(graph, start):\n",
        "    visited = set()\n",
        "    queue = deque([start])\n",
        "\n",
        "    while queue:\n",
        "        vertex = queue.popleft()\n",
        "        if vertex not in visited:\n",
        "            print(vertex, end=\" \")\n",
        "            visited.add(vertex)\n",
        "            queue.extend([neighbor for neighbor in graph[vertex] if neighbor not in visited])\n",
        "\n",
        "# impplementasi DFS\n",
        "def dfs(graph, start, visited=None):\n",
        "    if visited is None:\n",
        "        visited = set()\n",
        "\n",
        "    if start not in visited:\n",
        "        print(start, end=\" \")\n",
        "        visited.add(start)\n",
        "        for neighbor in graph[start]:\n",
        "            dfs(graph, neighbor, visited)\n",
        "\n",
        "# Pemanggilan\n",
        "print(\"implementasi BFS dan DFS dari simpul A:\")\n",
        "print(\"BFS dari simpul A:\")\n",
        "bfs(graph, 'A')\n",
        "print(\"\\nDFS dari simpul A:\")\n",
        "dfs(graph, 'A')"
      ],
      "metadata": {
        "colab": {
          "base_uri": "https://localhost:8080/"
        },
        "id": "A6x_R8rMllbR",
        "outputId": "47c323b0-b85e-48b4-a32f-12298b5104e8"
      },
      "execution_count": 13,
      "outputs": [
        {
          "output_type": "stream",
          "name": "stdout",
          "text": [
            "implementasi BFS dan DFS dari simpul A:\n",
            "BFS dari simpul A:\n",
            "A B C D E \n",
            "DFS dari simpul A:\n",
            "A B C D E "
          ]
        }
      ]
    },
    {
      "cell_type": "code",
      "source": [
        "# 3. Modifikasi fungsi BFS\n",
        "from collections import deque\n",
        "\n",
        "def bfs(graph, start):\n",
        "    visited = set()\n",
        "    queue = deque([start])\n",
        "    visited_list = []  # Menyimpan urutan simpul yang dikunjungi\n",
        "\n",
        "    while queue:\n",
        "        vertex = queue.popleft()\n",
        "        if vertex not in visited:\n",
        "            visited_list.append(vertex)  # Simpan simpul yang dikunjungi\n",
        "            visited.add(vertex)\n",
        "            queue.extend([neighbor for neighbor in graph[vertex] if neighbor not in visited])\n",
        "    return visited_list\n",
        "\n",
        "# Pemanggilan fungsi bfs yang sudah dimodifikasi\n",
        "print(\"Urutan kunjungan BFS dari simpul A:\")\n",
        "print(bfs(graph, 'A'))"
      ],
      "metadata": {
        "colab": {
          "base_uri": "https://localhost:8080/"
        },
        "id": "5neZ5oowllSf",
        "outputId": "310bf785-c83f-4e33-bf88-4d2ff6f4b2cc"
      },
      "execution_count": 16,
      "outputs": [
        {
          "output_type": "stream",
          "name": "stdout",
          "text": [
            "Urutan kunjungan BFS dari simpul A:\n",
            "['A', 'B', 'C', 'D', 'E']\n"
          ]
        }
      ]
    },
    {
      "cell_type": "code",
      "source": [
        "# 4 Buat fungsi find_path\n",
        "def find_path(graph, start, end, path=None):\n",
        "    if path is None:\n",
        "        path = []\n",
        "\n",
        "    path.append(start)\n",
        "\n",
        "    if start == end:\n",
        "        return path\n",
        "\n",
        "    for neighbor in graph[start]:\n",
        "        if neighbor not in path:\n",
        "            result = find_path(graph, neighbor, end, path.copy())\n",
        "            if result:\n",
        "                return result\n",
        "\n",
        "    return None\n",
        "# pemanggilan\n",
        "print(\"Jalur dari A ke D:\", find_path(graph, 'A', 'D'))\n",
        "print(\"Jalur dari B ke E:\", find_path(graph, 'B', 'E'))\n",
        "print(\"Jalur dari C ke A:\", find_path(graph, 'C', 'A'))\n",
        "print(\"Jalur dari D ke A:\", find_path(graph, 'D', 'A'))\n",
        "print(\"Jalur dari A ke A:\", find_path(graph, 'A', 'A'))"
      ],
      "metadata": {
        "colab": {
          "base_uri": "https://localhost:8080/"
        },
        "id": "bmiUVG4LqIVg",
        "outputId": "0514bffe-2684-4bb6-896c-eb76698a2ae5"
      },
      "execution_count": 21,
      "outputs": [
        {
          "output_type": "stream",
          "name": "stdout",
          "text": [
            "Jalur dari A ke D: ['A', 'B', 'C', 'D']\n",
            "Jalur dari B ke E: ['B', 'A', 'C', 'D', 'E']\n",
            "Jalur dari C ke A: ['C', 'A']\n",
            "Jalur dari D ke A: ['D', 'B', 'A']\n",
            "Jalur dari A ke A: ['A']\n"
          ]
        }
      ]
    },
    {
      "cell_type": "code",
      "source": [
        "# 5. Tambahkan fungsi is_connected(graph)\n",
        "def is_connected(graph):\n",
        "    visited = set()\n",
        "\n",
        "    def dfs(node):\n",
        "        visited.add(node)\n",
        "        for neighbor in graph[node]:\n",
        "            if neighbor not in visited:\n",
        "                dfs(neighbor)  # Pemanggilan fungsi harus sesuai nama yang didefinisikan\n",
        "\n",
        "    # Mulai dari simpul pertama\n",
        "    start_node = next(iter(graph))\n",
        "    dfs(start_node)\n",
        "\n",
        "    return len(visited) == len(graph)\n",
        "\n",
        "# Contoh pemanggilan\n",
        "print(\"Apakah graf terhubung?\", is_connected(graph))"
      ],
      "metadata": {
        "colab": {
          "base_uri": "https://localhost:8080/"
        },
        "id": "COUx1xsOrscj",
        "outputId": "22111079-8f67-4c55-e920-60124ca00f2b"
      },
      "execution_count": 24,
      "outputs": [
        {
          "output_type": "stream",
          "name": "stdout",
          "text": [
            "Apakah graf terhubung? True\n"
          ]
        }
      ]
    }
  ]
}
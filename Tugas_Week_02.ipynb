{
  "nbformat": 4,
  "nbformat_minor": 0,
  "metadata": {
    "colab": {
      "provenance": [],
      "authorship_tag": "ABX9TyP08KOTo+z3vQVyXlKQa17d",
      "include_colab_link": true
    },
    "kernelspec": {
      "name": "python3",
      "display_name": "Python 3"
    },
    "language_info": {
      "name": "python"
    }
  },
  "cells": [
    {
      "cell_type": "markdown",
      "metadata": {
        "id": "view-in-github",
        "colab_type": "text"
      },
      "source": [
        "<a href=\"https://colab.research.google.com/github/senandungarimbichh/Praktikum-Struktur-Data-Smt-2/blob/main/Tugas_Week_02.ipynb\" target=\"_parent\"><img src=\"https://colab.research.google.com/assets/colab-badge.svg\" alt=\"Open In Colab\"/></a>"
      ]
    },
    {
      "cell_type": "code",
      "execution_count": 1,
      "metadata": {
        "colab": {
          "base_uri": "https://localhost:8080/"
        },
        "id": "WvC5CQjYZfpi",
        "outputId": "4ee46f57-ffe8-4633-c852-4f065e815280"
      },
      "outputs": [
        {
          "output_type": "stream",
          "name": "stdout",
          "text": [
            "Masukkan nama 4 satpam yang akan bertugas:\n",
            "Masukkan nama satpam ke-1: zurich sabil\n",
            "Masukkan nama satpam ke-2: farrel apriandy\n",
            "Masukkan nama satpam ke-3: nabila syafiqah\n",
            "Masukkan nama satpam ke-4: erlyn nur\n",
            "\n",
            "Jadwal Piket Satpam Selama 2 Minggu:\n",
            "\n",
            "Hari 1: zurich sabil\n",
            "Hari 2: farrel apriandy\n",
            "Hari 3: nabila syafiqah\n",
            "Hari 4: erlyn nur\n",
            "Hari 5: zurich sabil\n",
            "Hari 6: farrel apriandy\n",
            "Hari 7: nabila syafiqah\n",
            "Hari 8: erlyn nur\n",
            "Hari 9: zurich sabil\n",
            "Hari 10: farrel apriandy\n",
            "Hari 11: nabila syafiqah\n",
            "Hari 12: erlyn nur\n",
            "Hari 13: zurich sabil\n",
            "Hari 14: farrel apriandy\n"
          ]
        }
      ],
      "source": [
        "class Node:\n",
        "    def __init__(self, data):\n",
        "        self.data = data  # Menyimpan nama satpam\n",
        "        self.next = None  # Pointer ke node berikutnya\n",
        "\n",
        "class CircularLinkedList:\n",
        "    def __init__(self):\n",
        "        self.head = None  # Awalnya kosong\n",
        "\n",
        "    def add_satpam(self, data):\n",
        "        new_node = Node(data)\n",
        "        if not self.head:\n",
        "            self.head = new_node\n",
        "            self.head.next = self.head  # Circular\n",
        "        else:\n",
        "            temp = self.head\n",
        "            while temp.next != self.head:\n",
        "                temp = temp.next\n",
        "            temp.next = new_node\n",
        "            new_node.next = self.head\n",
        "\n",
        "    def print_schedule(self, days=14):\n",
        "        if not self.head:\n",
        "            print(\"Tidak ada satpam yang bertugas.\")\n",
        "            return\n",
        "\n",
        "        print(\"\\nJadwal Piket Satpam Selama 2 Minggu:\\n\")\n",
        "        temp = self.head\n",
        "        for day in range(1, days + 1):\n",
        "            print(f\"Hari {day}: {temp.data}\")\n",
        "            temp = temp.next\n",
        "\n",
        "# Program Utama\n",
        "satpam_list = CircularLinkedList()\n",
        "print(\"Masukkan nama 4 satpam yang akan bertugas:\")\n",
        "for i in range(4):\n",
        "    nama = input(f\"Masukkan nama satpam ke-{i+1}: \")\n",
        "    satpam_list.add_satpam(nama)\n",
        "\n",
        "satpam_list.print_schedule()"
      ]
    }
  ]
}
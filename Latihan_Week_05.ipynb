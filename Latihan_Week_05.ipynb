{
  "nbformat": 4,
  "nbformat_minor": 0,
  "metadata": {
    "colab": {
      "provenance": [],
      "authorship_tag": "ABX9TyMswBV4sLJKCz9QhM3ykjgh",
      "include_colab_link": true
    },
    "kernelspec": {
      "name": "python3",
      "display_name": "Python 3"
    },
    "language_info": {
      "name": "python"
    }
  },
  "cells": [
    {
      "cell_type": "markdown",
      "metadata": {
        "id": "view-in-github",
        "colab_type": "text"
      },
      "source": [
        "<a href=\"https://colab.research.google.com/github/senandungarimbichh/Praktikum-Struktur-Data-Smt-2/blob/main/Latihan_Week_05.ipynb\" target=\"_parent\"><img src=\"https://colab.research.google.com/assets/colab-badge.svg\" alt=\"Open In Colab\"/></a>"
      ]
    },
    {
      "cell_type": "code",
      "execution_count": null,
      "metadata": {
        "colab": {
          "base_uri": "https://localhost:8080/"
        },
        "id": "78q8WQUQrk-M",
        "outputId": "4b3aa04b-a8fd-423c-ffb0-ab843d819191"
      },
      "outputs": [
        {
          "output_type": "stream",
          "name": "stdout",
          "text": [
            "Masukkan 3 digit terakhir NPM Anda: 023\n",
            "Elemen ditemukan pada indeks 3\n"
          ]
        }
      ],
      "source": [
        "### Implementasi Linear search ###\n",
        "def linear_search(arr, target):\n",
        "    for i in range(len(arr)):\n",
        "        if arr[i] == target:\n",
        "            return i  # Mengembalikan indeks jika ditemukan\n",
        "    return -1  # Mengembalikan -1 jika elemen tidak ditemukan\n",
        "\n",
        "# Gantilah dengan angka acak dan NPM Anda\n",
        "arr = [12, 45, 78, 23, 56, 89, 34, 67, 90, 11]\n",
        "target = int(input(\"Masukkan 3 digit terakhir NPM Anda: \"))\n",
        "\n",
        "result = linear_search(arr, target)\n",
        "\n",
        "if result != -1:\n",
        "    print(f\"Elemen ditemukan pada indeks {result}\")\n",
        "else:\n",
        "    print(\"Elemen tidak ditemukan\")"
      ]
    },
    {
      "cell_type": "code",
      "source": [
        "### Implementasi Binary search ###\n",
        "def binary_search(arr, target):\n",
        "    low = 0\n",
        "    high = len(arr) - 1\n",
        "\n",
        "    while low <= high:\n",
        "        mid = (low + high) // 2  # Menentukan elemen tengah\n",
        "\n",
        "        if arr[mid] == target:\n",
        "            return mid  # Mengembalikan indeks jika ditemukan\n",
        "        elif arr[mid] < target:\n",
        "            low = mid + 1  # Mencari di bagian kanan\n",
        "        else:\n",
        "            high = mid - 1  # Mencari di bagian kiri\n",
        "\n",
        "    return -1  # Jika elemen tidak ditemukan\n",
        "\n",
        "# Gantilah dengan angka terurut dan tanggal lahir Anda (DDMM)\n",
        "arr = [1010, 1202, 1405, 1707, 2508, 3009, 311, 2412]  # Menghapus nol di depan 0311 agar valid\n",
        "target = int(input(\"Masukkan tanggal lahir Anda (DDMM): \"))\n",
        "\n",
        "result = binary_search(arr, target)\n",
        "\n",
        "if result != -1:\n",
        "    print(f\"Elemen ditemukan pada indeks {result}\")\n",
        "else:\n",
        "    print(\"Elemen tidak ditemukan\")"
      ],
      "metadata": {
        "colab": {
          "base_uri": "https://localhost:8080/"
        },
        "id": "WGsBFTpevulw",
        "outputId": "1da0b6b6-1498-4e9d-a150-dc84d24b453b"
      },
      "execution_count": null,
      "outputs": [
        {
          "output_type": "stream",
          "name": "stdout",
          "text": [
            "Masukkan tanggal lahir Anda (DDMM): 1202\n",
            "Elemen ditemukan pada indeks 1\n"
          ]
        }
      ]
    },
    {
      "cell_type": "code",
      "source": [
        "### Implementasi Jump Search ###\n",
        "import math\n",
        "\n",
        "def jump_search(arr, target):\n",
        "    n = len(arr)\n",
        "    step = int(math.sqrt(n))  # Menentukan ukuran langkah\n",
        "    prev = 0\n",
        "    target = target.lower()  # Konversi target ke huruf kecil\n",
        "\n",
        "    # Melompat dalam blok hingga menemukan rentang yang mungkin berisi target\n",
        "    while prev < n and arr[min(step, n) - 1].lower() < target:\n",
        "        prev = step\n",
        "        step += int(math.sqrt(n))\n",
        "        if prev >= n:  # Jika sudah melewati batas array, target tidak ditemukan\n",
        "            return -1\n",
        "\n",
        "    # Melakukan Linear Search dalam blok yang sesuai\n",
        "    for i in range(prev, min(step, n)):\n",
        "        if arr[i].lower() == target:  # Bandingkan dalam huruf kecil\n",
        "            return i  # Mengembalikan indeks jika ditemukan\n",
        "\n",
        "    return -1  # Jika target tidak ditemukan\n",
        "\n",
        "# Daftar nama teman dalam urutan alfabet\n",
        "arr = [\"Aldo\", \"Budi\", \"Dewi\", \"Fajar\", \"Gita\", \"Indra\", \"Rina\", \"Tono\"]\n",
        "\n",
        "target = input(\"Masukkan nama yang ingin dicari: \").strip()  # Menghapus spasi tambahan\n",
        "\n",
        "result = jump_search(arr, target)\n",
        "\n",
        "if result != -1:\n",
        "    print(f\"Elemen ditemukan pada indeks {result}\")\n",
        "else:\n",
        "    print(\"Elemen tidak ditemukan\")\n",
        "import math\n",
        "\n",
        "def jump_search(arr, target):\n",
        "    n = len(arr)\n",
        "    step = int(math.sqrt(n))  # Menentukan ukuran langkah\n",
        "    prev = 0\n",
        "    target = target.lower()  # Konversi target ke huruf kecil\n",
        "\n",
        "    # Melompat dalam blok hingga menemukan rentang yang mungkin berisi target\n",
        "    while prev < n and arr[min(step, n) - 1].lower() < target:\n",
        "        prev = step\n",
        "        step += int(math.sqrt(n))\n",
        "        if prev >= n:  # Jika sudah melewati batas array, target tidak ditemukan\n",
        "            return -1\n",
        "\n",
        "    # Melakukan Linear Search dalam blok yang sesuai\n",
        "    for i in range(prev, min(step, n)):\n",
        "        if arr[i].lower() == target:  # Bandingkan dalam huruf kecil\n",
        "            return i  # Mengembalikan indeks jika ditemukan\n",
        "\n",
        "    return -1  # Jika target tidak ditemukan\n",
        "\n",
        "# Daftar nama teman dalam urutan alfabet\n",
        "arr = [\"Aldo\", \"Budi\", \"Dewi\", \"Fajar\", \"Gita\", \"Indra\", \"Rina\", \"Tono\"]\n",
        "\n",
        "target = input(\"Masukkan nama yang ingin dicari: \").strip()  # Menghapus spasi tambahan\n",
        "\n",
        "result = jump_search(arr, target)\n",
        "\n",
        "if result != -1:\n",
        "    print(f\"Elemen ditemukan pada indeks {result}\")\n",
        "else:\n",
        "    print(\"Elemen tidak ditemukan\")\n"
      ],
      "metadata": {
        "colab": {
          "base_uri": "https://localhost:8080/"
        },
        "id": "n954O2_D3VK-",
        "outputId": "4ed1d100-150d-40b7-f2f2-94ce59d63434"
      },
      "execution_count": null,
      "outputs": [
        {
          "output_type": "stream",
          "name": "stdout",
          "text": [
            "Masukkan nama yang ingin dicari: Dewi\n",
            "Elemen ditemukan pada indeks 2\n"
          ]
        }
      ]
    }
  ]
}
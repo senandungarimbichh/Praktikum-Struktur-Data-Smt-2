{
  "nbformat": 4,
  "nbformat_minor": 0,
  "metadata": {
    "colab": {
      "provenance": [],
      "authorship_tag": "ABX9TyPEagyd6gVghMWFKGgDv34P",
      "include_colab_link": true
    },
    "kernelspec": {
      "name": "python3",
      "display_name": "Python 3"
    },
    "language_info": {
      "name": "python"
    }
  },
  "cells": [
    {
      "cell_type": "markdown",
      "metadata": {
        "id": "view-in-github",
        "colab_type": "text"
      },
      "source": [
        "<a href=\"https://colab.research.google.com/github/senandungarimbichh/Praktikum-Struktur-Data-Smt-2/blob/main/Tugas_Week_09.ipynb\" target=\"_parent\"><img src=\"https://colab.research.google.com/assets/colab-badge.svg\" alt=\"Open In Colab\"/></a>"
      ]
    },
    {
      "cell_type": "code",
      "execution_count": null,
      "metadata": {
        "id": "ZwZVv_jiWaz-",
        "colab": {
          "base_uri": "https://localhost:8080/"
        },
        "outputId": "1d026a23-5ca8-4d06-c990-2f8c57dc1122"
      },
      "outputs": [
        {
          "output_type": "stream",
          "name": "stdout",
          "text": [
            "Isi tabel Linear Probing:\n",
            "Index 0: ('D', 40)\n",
            "Index 1: ('C', 30)\n",
            "Index 2: ('E', 50)\n",
            "Index 3: ('B', 20)\n",
            "Index 4: ('A', 10)\n"
          ]
        }
      ],
      "source": [
        "## Eksperimen Sederhana Linear Probing ##\n",
        "class LinearProbingHashTable:\n",
        "    def __init__(self, size):\n",
        "        self.size = size\n",
        "        self.table = [None] * size\n",
        "\n",
        "    def hash_function(self, key):\n",
        "        return hash(key) % self.size\n",
        "\n",
        "    def insert(self, key, value):\n",
        "        index = self.hash_function(key)\n",
        "        original_index = index\n",
        "\n",
        "        while self.table[index] is not None:\n",
        "            if self.table[index][0] == key:\n",
        "                break  # Update jika key sama\n",
        "            index = (index + 1) % self.size\n",
        "            if index == original_index:\n",
        "                raise Exception(\"Hash table penuh\")\n",
        "\n",
        "        self.table[index] = (key, value)\n",
        "\n",
        "    def search(self, key):\n",
        "        index = self.hash_function(key)\n",
        "        original_index = index\n",
        "\n",
        "        while self.table[index] is not None:\n",
        "            if self.table[index][0] == key:\n",
        "                return self.table[index][1]\n",
        "            index = (index + 1) % self.size\n",
        "            if index == original_index:\n",
        "                break\n",
        "        return None\n",
        "\n",
        "    def display(self):\n",
        "        for i, item in enumerate(self.table):\n",
        "            print(f\"Index {i}: {item}\")\n",
        "\n",
        "# Buat objek\n",
        "ht = LinearProbingHashTable(5)\n",
        "\n",
        "# a & b. Memasukkan 5 data\n",
        "ht.insert(\"A\", 10)\n",
        "ht.insert(\"B\", 20)\n",
        "ht.insert(\"C\", 30)\n",
        "ht.insert(\"D\", 40)\n",
        "ht.insert(\"E\", 50)\n",
        "\n",
        "# c. Cetak isi tabel\n",
        "print(\"Isi tabel Linear Probing:\")\n",
        "ht.display()"
      ]
    },
    {
      "cell_type": "code",
      "source": [
        "## Percobaan Dasar Chaining ##\n",
        "class ChainingHashTable:\n",
        "    def __init__(self, size):\n",
        "        self.size = size\n",
        "        self.table = [[] for _ in range(size)]\n",
        "\n",
        "    def hash_function(self, key):\n",
        "        return hash(key) % self.size\n",
        "\n",
        "    def insert(self, key, value):\n",
        "        index = self.hash_function(key)\n",
        "        for i, (k, v) in enumerate(self.table[index]):\n",
        "            if k == key:\n",
        "                self.table[index][i] = (key, value)  # Update jika key sudah ada\n",
        "                return\n",
        "        self.table[index].append((key, value))  # Tambah data baru\n",
        "\n",
        "    def display(self):\n",
        "        for i, slot in enumerate(self.table):\n",
        "            print(f\"Index {i}: {slot}\")\n",
        "\n",
        "# a. Ukuran tabel 3\n",
        "ht = ChainingHashTable(3)\n",
        "\n",
        "# b. Masukkan data\n",
        "ht.insert(\"apel\", 100)\n",
        "ht.insert(\"melon\", 200)\n",
        "ht.insert(\"lemon\", 300)\n",
        "ht.insert(\"pisang\", 400)\n",
        "\n",
        "# c. Cetak isi tabel\n",
        "print(\"Isi tabel chaining:\")\n",
        "ht.display()"
      ],
      "metadata": {
        "colab": {
          "base_uri": "https://localhost:8080/"
        },
        "id": "pG6MhHr5hLEk",
        "outputId": "1aa083d9-5b7a-4323-8d4d-541afba65ca7"
      },
      "execution_count": 1,
      "outputs": [
        {
          "output_type": "stream",
          "name": "stdout",
          "text": [
            "Isi tabel chaining:\n",
            "Index 0: [('melon', 200), ('lemon', 300), ('pisang', 400)]\n",
            "Index 1: [('apel', 100)]\n",
            "Index 2: []\n"
          ]
        }
      ]
    }
  ]
}
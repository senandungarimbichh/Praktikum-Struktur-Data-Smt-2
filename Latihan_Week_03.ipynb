{
  "nbformat": 4,
  "nbformat_minor": 0,
  "metadata": {
    "colab": {
      "provenance": [],
      "authorship_tag": "ABX9TyPbVFhyjEl8LxAfFfcmlc2A",
      "include_colab_link": true
    },
    "kernelspec": {
      "name": "python3",
      "display_name": "Python 3"
    },
    "language_info": {
      "name": "python"
    }
  },
  "cells": [
    {
      "cell_type": "markdown",
      "metadata": {
        "id": "view-in-github",
        "colab_type": "text"
      },
      "source": [
        "<a href=\"https://colab.research.google.com/github/senandungarimbichh/Praktikum-Struktur-Data-Smt-2/blob/main/Latihan_Week_03.ipynb\" target=\"_parent\"><img src=\"https://colab.research.google.com/assets/colab-badge.svg\" alt=\"Open In Colab\"/></a>"
      ]
    },
    {
      "cell_type": "code",
      "source": [
        "class Stack:\n",
        "    def __init__(self):\n",
        "        self.stack = []\n",
        "    def push(self, item):\n",
        "        self.stack.append(item)\n",
        "# Contoh penggunaan\n",
        "s = Stack()\n",
        "s.push(5)\n",
        "print(s.stack) # Output: [5]"
      ],
      "metadata": {
        "colab": {
          "base_uri": "https://localhost:8080/"
        },
        "id": "mFwhE67E8_9a",
        "outputId": "7a60e2c2-9b50-49d5-d667-f83f52c54666"
      },
      "execution_count": 1,
      "outputs": [
        {
          "output_type": "stream",
          "name": "stdout",
          "text": [
            "[5]\n"
          ]
        }
      ]
    },
    {
      "cell_type": "code",
      "source": [
        "class Stack:\n",
        "      def __init__(self):\n",
        "          self.stack = []\n",
        "      def push(self, item):\n",
        "          self.stack.append(item)\n",
        "      def pop(self):\n",
        "          if len(self.stack) == 0:\n",
        "            return \"Stack Kosong\"\n",
        "          return self.stack.pop()\n",
        "# Contoh penggunaan\n",
        "s = Stack()\n",
        "s.push(5)\n",
        "s.push(10)\n",
        "print(s.pop()) #output: 10\n",
        "print(s.stack) #output : [5]"
      ],
      "metadata": {
        "colab": {
          "base_uri": "https://localhost:8080/"
        },
        "id": "lJOIJUfW9Hp2",
        "outputId": "178721c2-bf7a-4d63-bdc0-e0f53c78a3c8"
      },
      "execution_count": 2,
      "outputs": [
        {
          "output_type": "stream",
          "name": "stdout",
          "text": [
            "10\n",
            "[5]\n"
          ]
        }
      ]
    },
    {
      "cell_type": "code",
      "source": [
        "class stack:\n",
        "    def __init__(self):\n",
        "        self.stack = []\n",
        "\n",
        "    #ini harusnya tadi ada def pushnya untuk nambahin item ke stack\n",
        "    def push(self, item):\n",
        "        self.stack.append(item)\n",
        "\n",
        "    def peek(self):\n",
        "        if len(self.stack) == 0:\n",
        "            return \"Stack Kosong\"\n",
        "        return self.stack[-1]\n",
        "\n",
        "# Contoh penggunaan\n",
        "s = stack()\n",
        "s.push(5)\n",
        "s.push(10)\n",
        "print(s.peek())  # Output: 10\n",
        "print(s.stack)   # Stack tetap [5, 10]"
      ],
      "metadata": {
        "colab": {
          "base_uri": "https://localhost:8080/"
        },
        "id": "BbE0JOpt9Ndn",
        "outputId": "93b8e4bd-c1a7-48ea-bdb8-9456dea58947"
      },
      "execution_count": 18,
      "outputs": [
        {
          "output_type": "stream",
          "name": "stdout",
          "text": [
            "10\n",
            "[5, 10]\n"
          ]
        }
      ]
    },
    {
      "cell_type": "code",
      "source": [
        "class Stack:\n",
        "    def __init__(self):\n",
        "        self.stack = []\n",
        "    def push(self, item):\n",
        "        self.stack.append(item)\n",
        "    def is_empty(self):\n",
        "        return len(self.stack) == 0\n",
        "# Contoh penggunaan\n",
        "s = Stack()\n",
        "print(s.is_empty()) # Output: True\n",
        "s.push(5)\n",
        "print(s.is_empty()) # Output: False"
      ],
      "metadata": {
        "colab": {
          "base_uri": "https://localhost:8080/"
        },
        "id": "2uplrFvm-E6S",
        "outputId": "ccab91e8-e3da-4018-ebdf-1203961ccd8f"
      },
      "execution_count": 19,
      "outputs": [
        {
          "output_type": "stream",
          "name": "stdout",
          "text": [
            "True\n",
            "False\n"
          ]
        }
      ]
    },
    {
      "cell_type": "code",
      "source": [
        "# Percobaan 1 #\n",
        "class TextEditor:\n",
        "  def __init__(self):\n",
        "    self.history = []\n",
        "  def write(self, text):\n",
        "    self.history.append(text)\n",
        "\n",
        "  def undo(self):\n",
        "    if self.history:\n",
        "      return f\"Undo: {self.history.pop()}\"\n",
        "\n",
        "# Contoh Penggunaan\n",
        "editor = TextEditor()\n",
        "editor.write(\"Hallo, ini teks pertama.\")\n",
        "editor.write(\"Ini adalah teks kedua.\")\n",
        "editor.write(\"Ini adalah teks ketiga.\")\n",
        "print(editor.undo())\n",
        "print(editor.undo())"
      ],
      "metadata": {
        "colab": {
          "base_uri": "https://localhost:8080/"
        },
        "id": "_sN1bx0u09X2",
        "outputId": "54a5a739-7d91-445b-be6a-eec2663744ed"
      },
      "execution_count": null,
      "outputs": [
        {
          "output_type": "stream",
          "name": "stdout",
          "text": [
            "Undo: Ini adalah teks ketiga.\n",
            "Undo: Ini adalah teks kedua.\n"
          ]
        }
      ]
    },
    {
      "cell_type": "code",
      "source": [
        "# Latihan 1 #\n",
        "class undo_kalkulator:\n",
        "    def __init__(self, value):\n",
        "        self.stack = [value]\n",
        "\n",
        "    def tambah(self, value):\n",
        "        self.stack.append(self.stack[-1] + value)\n",
        "\n",
        "    def kurang(self, value):\n",
        "        self.stack.append(self.stack[-1] - value)\n",
        "\n",
        "    def kali(self, value):\n",
        "        self.stack.append(self.stack[-1] * value)\n",
        "\n",
        "    def undo(self):\n",
        "        if len(self.stack) > 1:\n",
        "            return f\"Undo: hapus '{self.stack.pop()}'\"\n",
        "        else:\n",
        "            return \"ngga ada yang dapat di-undo\"\n",
        "\n",
        "value = int(input(\"Masukkan 2 digit terakhir NPM Anda: \"))\n",
        "kalkulator = undo_kalkulator(value)\n",
        "\n",
        "kalkulator.tambah(10)\n",
        "print(\"Setelah tambah 10:\", kalkulator.stack[-1])\n",
        "\n",
        "kalkulator.kurang(5)\n",
        "print(\"Setelah kurang 5:\", kalkulator.stack[-1])\n",
        "\n",
        "kalkulator.kali(2)\n",
        "print(\"Setelah kali 2:\", kalkulator.stack[-1])\n",
        "\n",
        "print(kalkulator.undo())\n",
        "print(kalkulator.undo())"
      ],
      "metadata": {
        "colab": {
          "base_uri": "https://localhost:8080/"
        },
        "id": "LCiYTBvQBnB6",
        "outputId": "11e99dd4-b90b-40df-a904-1435916c863f"
      },
      "execution_count": 35,
      "outputs": [
        {
          "output_type": "stream",
          "name": "stdout",
          "text": [
            "Masukkan 2 digit terakhir NPM Anda: 50\n",
            "Setelah tambah 10: 60\n",
            "Setelah kurang 5: 55\n",
            "Setelah kali 2: 110\n",
            "Undo: hapus '110'\n",
            "Undo: hapus '55'\n"
          ]
        }
      ]
    },
    {
      "cell_type": "code",
      "source": [
        "# Percobaan 2 #\n",
        "from collections import deque\n",
        "\n",
        "class BrowserHistory:\n",
        "  def __init__(self):\n",
        "    self.history = deque()\n",
        "  def visit(self, url):\n",
        "    self.history.append(url)\n",
        "    print(f\"mengunjungi: {url}\")\n",
        "\n",
        "  def back (self):\n",
        "    if self.history:\n",
        "      print(f\"kembali ke: {self.history.pop()}\")\n",
        "    else:\n",
        "      print(\"tidak ada riwayat!\")\n",
        "browser = BrowserHistory()\n",
        "browser.visit(\"google.com\")\n",
        "browser.visit(\"youtube.com\")\n",
        "browser.visit(\"github.com\")\n",
        "\n",
        "browser.back()\n",
        "browser.back()"
      ],
      "metadata": {
        "colab": {
          "base_uri": "https://localhost:8080/"
        },
        "id": "c9tTF0c1CT9_",
        "outputId": "302834b2-2512-4120-c82a-8235c7d9f02d"
      },
      "execution_count": 24,
      "outputs": [
        {
          "output_type": "stream",
          "name": "stdout",
          "text": [
            "mengunjungi: google.com\n",
            "mengunjungi: youtube.com\n",
            "mengunjungi: github.com\n",
            "kembali ke: github.com\n",
            "kembali ke: youtube.com\n"
          ]
        }
      ]
    },
    {
      "cell_type": "code",
      "source": [
        "# Latihan 2 #\n",
        "from collections import deque\n",
        "\n",
        "class AppHistory:\n",
        "    def __init__(self):\n",
        "      self.history = deque()\n",
        "    def visit(self, fitur):\n",
        "        self.history.append(fitur)\n",
        "        print(f\"kunjungi: {fitur}\")\n",
        "\n",
        "    def back(self):\n",
        "        if self.history:\n",
        "            print(f\"kembali ke: {self.history.pop()}\")\n",
        "        else:\n",
        "            print(\"ngga ada riwayat nieh!\")\n",
        "\n",
        "history = AppHistory()\n",
        "history.visit(\"A50\")\n",
        "history.visit(\"tiktok\")\n",
        "history.visit(\"twitter\")\n",
        "\n",
        "history.back()\n",
        "history.back()"
      ],
      "metadata": {
        "colab": {
          "base_uri": "https://localhost:8080/"
        },
        "id": "guQDE3ApByVD",
        "outputId": "fa21e549-1593-4d0d-b431-2017c6c41585"
      },
      "execution_count": 36,
      "outputs": [
        {
          "output_type": "stream",
          "name": "stdout",
          "text": [
            "kunjungi: A50\n",
            "kunjungi: tiktok\n",
            "kunjungi: twitter\n",
            "kembali ke: twitter\n",
            "kembali ke: tiktok\n"
          ]
        }
      ]
    },
    {
      "cell_type": "code",
      "source": [
        "# Percobaan 3 #\n",
        "from queue import LifoQueue\n",
        "\n",
        "class BackupSystem:\n",
        "    def __init__(self):\n",
        "        self.backups = LifoQueue()\n",
        "\n",
        "    def backup(self, version):\n",
        "        self.backups.put(version)\n",
        "\n",
        "    def latest_backup(self):\n",
        "        if not self.backups.empty():\n",
        "            return f\"Versi terbaru: {self.backups.queue[-1]}\"\n",
        "        return \"Tidak ada cadangan!\"\n",
        "\n",
        "# Contoh Penggunaan\n",
        "backup_system = BackupSystem()\n",
        "backup_system.backup(\"Backup_1\")\n",
        "backup_system.backup(\"Backup_2\")\n",
        "backup_system.backup(\"Backup_3\")\n",
        "\n",
        "print(backup_system.latest_backup())"
      ],
      "metadata": {
        "colab": {
          "base_uri": "https://localhost:8080/"
        },
        "id": "uyoPJleNCIOd",
        "outputId": "1653cfea-d979-4cc9-fd5a-ef5a50e2ca16"
      },
      "execution_count": 29,
      "outputs": [
        {
          "output_type": "stream",
          "name": "stdout",
          "text": [
            "Versi terbaru: Backup_3\n"
          ]
        }
      ]
    },
    {
      "cell_type": "code",
      "source": [
        "# Latihan 3 #\n",
        "from queue import LifoQueue\n",
        "\n",
        "class EmailDraftSystem:\n",
        "    def __init__(self):\n",
        "        self.drafts = LifoQueue()\n",
        "\n",
        "    def save_draft(self, subject, isi_email):\n",
        "        draft = {\n",
        "            'subject': subject,\n",
        "            'isi_email': isi_email\n",
        "        }\n",
        "        self.drafts.put(draft)\n",
        "        print(f\"Draft email disimpan: {subject}\")\n",
        "\n",
        "    def latest_draft(self):\n",
        "        if not self.drafts.empty():\n",
        "            draft_terakhir = self.drafts.queue[-1]\n",
        "            return f\"Draft Terakhir - Subject: {draft_terakhir['subject']}\\nIsi: {draft_terakhir['isi_email']}\"\n",
        "        return \"ngga ada draft email!\"\n",
        "\n",
        "# Input data\n",
        "npm = input(\"Masukin NPM Anda: \")\n",
        "nama = input(\"Masukin nama Anda: \")\n",
        "\n",
        "# Buat subject email dari 2 huruf pertama nama + 2 digit terakhir NPM\n",
        "subject_awal = nama[:2].upper() + npm[-2:]\n",
        "\n",
        "# Buat objek sistem draft email\n",
        "draft_system = EmailDraftSystem()\n",
        "\n",
        "# Simpan minimal 3 draft email\n",
        "draft_system.save_draft(subject_awal + \"Kerja\", \"Draft email tentang laporan kerja\")\n",
        "draft_system.save_draft(subject_awal + \"Kuliah\", \"Draft email untuk dosen\")\n",
        "draft_system.save_draft(subject_awal + \"Pribadi\", \"Draft email keluarga\")\n",
        "\n",
        "# Tampilkan draft terakhir\n",
        "print(\"\\nDraft Terakhir:\")\n",
        "print(draft_system.latest_draft())"
      ],
      "metadata": {
        "colab": {
          "base_uri": "https://localhost:8080/"
        },
        "id": "3w0sh3W1Civn",
        "outputId": "27a92e69-06b9-48a4-b0f3-65ead49e82dd"
      },
      "execution_count": 39,
      "outputs": [
        {
          "output_type": "stream",
          "name": "stdout",
          "text": [
            "Masukin NPM Anda: 50\n",
            "Masukin nama Anda: Senandung\n",
            "Draft email disimpan: SE50Kerja\n",
            "Draft email disimpan: SE50Kuliah\n",
            "Draft email disimpan: SE50Pribadi\n",
            "\n",
            "Draft Terakhir:\n",
            "Draft Terakhir - Subject: SE50Pribadi\n",
            "Isi: Draft email keluarga\n"
          ]
        }
      ]
    },
    {
      "cell_type": "code",
      "source": [
        "# Percobaan 4 #\n",
        "class CustomerService:\n",
        "    def __init__(self):\n",
        "      self.tickets = []\n",
        "    def add_ticket (self, ticket):\n",
        "      self.tickets.append(ticket)\n",
        "    def process_ticket(self):\n",
        "      if not self.is_empty():\n",
        "        return f\"Memproses tiket: {self.tickets.pop()}\"\n",
        "      return \"Tidak ada tiket yang harus diproses.\"\n",
        "    def is_empty(self):\n",
        "      return len(self.tickets) == 0\n",
        "# Contoh Penggunaan\n",
        "service = CustomerService()\n",
        "service.add_ticket(\"Tiket 001\")\n",
        "service.add_ticket(\"Tiket 002\")\n",
        "\n",
        "print (service.process_ticket())\n",
        "print (service.is_empty())"
      ],
      "metadata": {
        "colab": {
          "base_uri": "https://localhost:8080/"
        },
        "id": "As5otwWACwCb",
        "outputId": "33c81d68-7fb2-4789-fb89-40ad575c6257"
      },
      "execution_count": 27,
      "outputs": [
        {
          "output_type": "stream",
          "name": "stdout",
          "text": [
            "Memproses tiket: Tiket 002\n",
            "False\n"
          ]
        }
      ]
    },
    {
      "cell_type": "code",
      "source": [
        "# Latihan 4 #\n",
        "class CustomerService:\n",
        "    def __init__(self):\n",
        "      self.tickets = []\n",
        "\n",
        "    def add_ticket(self, ticket):\n",
        "      self.tickets.append(ticket)\n",
        "      print(f\"Tiket ditambahin: {ticket}\")\n",
        "\n",
        "    def process_ticket(self):\n",
        "      if not self.is_empty():\n",
        "        return f\"Memproses tiket: {self.tickets.pop()}\"\n",
        "      return \"ngga ada tiket yang harus diproses.\"\n",
        "\n",
        "    def is_empty(self):\n",
        "      return len(self.tickets) == 0\n",
        "\n",
        "# Input data\n",
        "npm = input(\"Masukin NPM Anda: \")\n",
        "bulan_lahir = input(\"Masukin huruf pertama bulan lahir (kapital): \")\n",
        "\n",
        "# Buat nama film dari huruf pertama bulan lahir + 2 digit terakhir NPM\n",
        "nama_film = bulan_lahir + npm[-2:]\n",
        "\n",
        "# Buat objek layanan tiket\n",
        "service = CustomerService()\n",
        "\n",
        "# Beli minimal 3 tiket\n",
        "service.add_ticket(f\"{nama_film} - Tiket 1\")\n",
        "service.add_ticket(f\"{nama_film} - Tiket 2\")\n",
        "service.add_ticket(f\"{nama_film} - Tiket 3\")\n",
        "\n",
        "# Proses tiket\n",
        "print(\"\\nMemproses Tiket:\")\n",
        "print(service.process_ticket())\n",
        "print(service.process_ticket())\n",
        "print(service.process_ticket())\n",
        "\n",
        "# Cek apakah antrian kosong\n",
        "print(\"\\nApakah antrian kosong?\")\n",
        "print(service.is_empty())"
      ],
      "metadata": {
        "colab": {
          "base_uri": "https://localhost:8080/"
        },
        "id": "x3vAe8FFCzo1",
        "outputId": "6aa5d3e0-d80d-42f6-fca1-aa41c1ad1a53"
      },
      "execution_count": 40,
      "outputs": [
        {
          "output_type": "stream",
          "name": "stdout",
          "text": [
            "Masukin NPM Anda: 50\n",
            "Masukin huruf pertama bulan lahir (kapital): A\n",
            "Tiket ditambahin: A50 - Tiket 1\n",
            "Tiket ditambahin: A50 - Tiket 2\n",
            "Tiket ditambahin: A50 - Tiket 3\n",
            "\n",
            "Memproses Tiket:\n",
            "Memproses tiket: A50 - Tiket 3\n",
            "Memproses tiket: A50 - Tiket 2\n",
            "Memproses tiket: A50 - Tiket 1\n",
            "\n",
            "Apakah antrian kosong?\n",
            "True\n"
          ]
        }
      ]
    }
  ]
}
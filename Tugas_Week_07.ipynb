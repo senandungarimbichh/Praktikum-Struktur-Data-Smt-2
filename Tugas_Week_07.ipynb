{
  "nbformat": 4,
  "nbformat_minor": 0,
  "metadata": {
    "colab": {
      "provenance": [],
      "authorship_tag": "ABX9TyMm2beYKNJGc+j+4o414PNK",
      "include_colab_link": true
    },
    "kernelspec": {
      "name": "python3",
      "display_name": "Python 3"
    },
    "language_info": {
      "name": "python"
    }
  },
  "cells": [
    {
      "cell_type": "markdown",
      "metadata": {
        "id": "view-in-github",
        "colab_type": "text"
      },
      "source": [
        "<a href=\"https://colab.research.google.com/github/senandungarimbichh/Praktikum-Struktur-Data-Smt-2/blob/main/Tugas_Week_07.ipynb\" target=\"_parent\"><img src=\"https://colab.research.google.com/assets/colab-badge.svg\" alt=\"Open In Colab\"/></a>"
      ]
    },
    {
      "cell_type": "code",
      "execution_count": 2,
      "metadata": {
        "colab": {
          "base_uri": "https://localhost:8080/"
        },
        "id": "kmxkOtIdwLDl",
        "outputId": "769d8083-ff3b-4d72-b8aa-20294b7cf183"
      },
      "outputs": [
        {
          "output_type": "stream",
          "name": "stdout",
          "text": [
            "Struktur Tree berdasarkan identitas saya:\n",
            "11 5 17 50 4 "
          ]
        }
      ],
      "source": [
        "class Node:\n",
        "    def __init__(self, data):\n",
        "        self.data = data\n",
        "        self.left = None\n",
        "        self.right = None\n",
        "\n",
        "# Fungsi inorder traversal (diletakkan di luar class)\n",
        "def inorder(node):\n",
        "    if node:\n",
        "        inorder(node.left)\n",
        "        print(node.data, end=' ')\n",
        "        inorder(node.right)\n",
        "\n",
        "# Membuat binary tree manual berdasarkan identitas\n",
        "root = Node(17)             # Root = jumlah huruf nama\n",
        "root.left = Node(5)         # Anak kiri = jumlah huruf vokal\n",
        "root.right = Node(50)       # Anak kanan = dua digit terakhir NPM\n",
        "root.left.left = Node(11)   # Anak kiri dari anak kiri = tanggal lahir\n",
        "root.right.right = Node(4)  # Anak kanan dari anak kanan = bulan lahir\n",
        "\n",
        "# Output\n",
        "print(\"Struktur Tree berdasarkan identitas saya:\")\n",
        "inorder(root)"
      ]
    },
    {
      "cell_type": "code",
      "source": [
        "# Struktur Tree BST berdasarkan identitas saya\n",
        "\n",
        "class Node:\n",
        "    def __init__(self, data):\n",
        "        self.data = data\n",
        "        self.left = self.right = None\n",
        "\n",
        "class BST:\n",
        "    def insert(self, root, data):\n",
        "        if not root:\n",
        "            return Node(data)\n",
        "        if data < root.data:\n",
        "            root.left = self.insert(root.left, data)\n",
        "        else:\n",
        "            root.right = self.insert(root.right, data)\n",
        "        return root\n",
        "\n",
        "def inorder(node):\n",
        "    if node:\n",
        "        inorder(node.left)\n",
        "        print(node.data, end=' ')\n",
        "        inorder(node.right)\n",
        "\n",
        "def preorder(node):\n",
        "    if node:\n",
        "        print(node.data, end=' ')\n",
        "        preorder(node.left)\n",
        "        preorder(node.right)\n",
        "\n",
        "def postorder(node):\n",
        "    if node:\n",
        "        postorder(node.left)\n",
        "        postorder(node.right)\n",
        "        print(node.data, end=' ')\n",
        "\n",
        "def search(node, key):\n",
        "    if not node or node.data == key:\n",
        "        return node\n",
        "    return search(node.left, key) if key < node.data else search(node.right, key)\n",
        "\n",
        "# Data berdasarkan identitas: [NPM terakhir, tanggal, bulan, ASCII nama, angka favorit]\n",
        "data_list = [50, 11, 4, 83, 69, 7, 17]\n",
        "\n",
        "bst = BST()\n",
        "root = None\n",
        "for val in data_list:\n",
        "    root = bst.insert(root, val)\n",
        "\n",
        "# Output traversal\n",
        "print(\"Inorder   :\", end=' '); inorder(root)\n",
        "print(\"\\nPreorder :\", end=' '); preorder(root)\n",
        "print(\"\\nPostorder:\", end=' '); postorder(root)\n",
        "\n",
        "# Pencarian\n",
        "for key in [50, 99]:\n",
        "    found = search(root, key)\n",
        "    print(f\"\\n\\nPencarian {key}:\", \"Ditemukan.\" if found else \"Tidak ditemukan.\")"
      ],
      "metadata": {
        "colab": {
          "base_uri": "https://localhost:8080/"
        },
        "id": "hnGnCn-04Pns",
        "outputId": "a83b5662-0390-4f6b-9a8a-37d9e8048451"
      },
      "execution_count": 3,
      "outputs": [
        {
          "output_type": "stream",
          "name": "stdout",
          "text": [
            "Inorder   : 4 7 11 17 50 69 83 \n",
            "Preorder : 50 11 4 7 17 83 69 \n",
            "Postorder: 7 4 17 11 69 83 50 \n",
            "\n",
            "Pencarian 50: Ditemukan.\n",
            "\n",
            "\n",
            "Pencarian 99: Tidak ditemukan.\n"
          ]
        }
      ]
    }
  ]
}
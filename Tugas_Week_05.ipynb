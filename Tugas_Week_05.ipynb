{
  "nbformat": 4,
  "nbformat_minor": 0,
  "metadata": {
    "colab": {
      "provenance": [],
      "authorship_tag": "ABX9TyPBxp+Z8R/MaMw0mt3pqcT7",
      "include_colab_link": true
    },
    "kernelspec": {
      "name": "python3",
      "display_name": "Python 3"
    },
    "language_info": {
      "name": "python"
    }
  },
  "cells": [
    {
      "cell_type": "markdown",
      "metadata": {
        "id": "view-in-github",
        "colab_type": "text"
      },
      "source": [
        "<a href=\"https://colab.research.google.com/github/senandungarimbichh/Praktikum-Struktur-Data-Smt-2/blob/main/Tugas_Week_05.ipynb\" target=\"_parent\"><img src=\"https://colab.research.google.com/assets/colab-badge.svg\" alt=\"Open In Colab\"/></a>"
      ]
    },
    {
      "cell_type": "code",
      "source": [
        "import random\n",
        "import math\n",
        "from tabulate import tabulate\n",
        "\n",
        "# 1. Membuat daftar 100 angka acak unik dan mengurutkannya\n",
        "arr = sorted(random.sample(range(1, 1001), 100))\n",
        "\n",
        "# 2. Menentukan angka target (elemen tengah daftar)\n",
        "target = arr[len(arr) // 2]\n",
        "\n",
        "# 3. Implementasi Linear Search\n",
        "def linear_search(arr, target):\n",
        "    comparisons = 0\n",
        "    for i in range(len(arr)):\n",
        "        comparisons += 1  # Menghitung jumlah perbandingan\n",
        "        if arr[i] == target:\n",
        "            return i, comparisons\n",
        "    return -1, comparisons\n",
        "\n",
        "# 4. Implementasi Binary Search\n",
        "def binary_search(arr, target):\n",
        "    low, high = 0, len(arr) - 1\n",
        "    comparisons = 0\n",
        "\n",
        "    while low <= high:\n",
        "        mid = (low + high) // 2\n",
        "        comparisons += 1  # Menghitung jumlah perbandingan\n",
        "\n",
        "        if arr[mid] == target:\n",
        "            return mid, comparisons\n",
        "        elif arr[mid] < target:\n",
        "            low = mid + 1\n",
        "        else:\n",
        "            high = mid - 1\n",
        "\n",
        "    return -1, comparisons\n",
        "\n",
        "# 5. Implementasi Jump Search\n",
        "def jump_search(arr, target):\n",
        "    n = len(arr)\n",
        "    step = int(math.sqrt(n))\n",
        "    prev = 0\n",
        "    comparisons = 0\n",
        "\n",
        "    # Melakukan lompatan untuk menemukan rentang\n",
        "    while prev < n and arr[min(step, n) - 1] < target:\n",
        "        comparisons += 1  # Menghitung perbandingan\n",
        "        prev = step\n",
        "        step += int(math.sqrt(n))\n",
        "        if prev >= n:\n",
        "            return -1, comparisons\n",
        "\n",
        "    # Linear search dalam rentang yang ditemukan\n",
        "    for i in range(prev, min(step, n)):\n",
        "        comparisons += 1  # Menghitung perbandingan\n",
        "        if arr[i] == target:\n",
        "            return i, comparisons\n",
        "\n",
        "    return -1, comparisons\n",
        "\n",
        "# 6. Menjalankan ketiga algoritma dan mencatat jumlah perbandingan\n",
        "linear_index, linear_comparisons = linear_search(arr, target)\n",
        "binary_index, binary_comparisons = binary_search(arr, target)\n",
        "jump_index, jump_comparisons = jump_search(arr, target)\n",
        "\n",
        "# 7. Menampilkan hasil dalam bentuk tabel\n",
        "table_data = [\n",
        "    [\"Linear Search\", linear_index, linear_comparisons],\n",
        "    [\"Binary Search\", binary_index, binary_comparisons],\n",
        "    [\"Jump Search\", jump_index, jump_comparisons]\n",
        "]\n",
        "\n",
        "# 8. Menampilkan tabel menggunakan tabulate\n",
        "print(\"\\nTarget yang dicari:\", target)\n",
        "print(\"\\nPerbandingan Efisiensi Algoritma Pencarian:\\n\")\n",
        "print(tabulate(table_data, headers=[\"Algoritma\", \"Indeks Ditemukan\", \"Jumlah Perbandingan\"], tablefmt=\"grid\"))"
      ],
      "metadata": {
        "colab": {
          "base_uri": "https://localhost:8080/"
        },
        "id": "CWUWY1iB-m7F",
        "outputId": "a14a5722-cce5-4049-9c8f-0330e7dd08d0"
      },
      "execution_count": 4,
      "outputs": [
        {
          "output_type": "stream",
          "name": "stdout",
          "text": [
            "\n",
            "Target yang dicari: 595\n",
            "\n",
            "Perbandingan Efisiensi Algoritma Pencarian:\n",
            "\n",
            "+---------------+--------------------+-----------------------+\n",
            "| Algoritma     |   Indeks Ditemukan |   Jumlah Perbandingan |\n",
            "+===============+====================+=======================+\n",
            "| Linear Search |                 50 |                    51 |\n",
            "+---------------+--------------------+-----------------------+\n",
            "| Binary Search |                 50 |                     6 |\n",
            "+---------------+--------------------+-----------------------+\n",
            "| Jump Search   |                 50 |                     6 |\n",
            "+---------------+--------------------+-----------------------+\n"
          ]
        }
      ]
    }
  ]
}